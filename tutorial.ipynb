{
 "cells": [
  {
   "cell_type": "code",
   "execution_count": null,
   "id": "18ab0500",
   "metadata": {},
   "outputs": [],
   "source": [
    "!pip install numpy matplotlib tensorflow pandas scikit-learn"
   ]
  },
  {
   "cell_type": "code",
   "execution_count": null,
   "id": "11d03030-575c-4d0e-a6d7-9acdf4ada6de",
   "metadata": {},
   "outputs": [],
   "source": [
    "!wget https://github.com/Rav2/DNN_tutorial/raw/main/data.csv"
   ]
  },
  {
   "cell_type": "code",
   "execution_count": null,
   "id": "79b1caec-18bd-48f3-b550-c0d4d881b4f1",
   "metadata": {},
   "outputs": [],
   "source": [
    "import tensorflow as tf"
   ]
  },
  {
   "cell_type": "code",
   "execution_count": null,
   "id": "704e0eb2",
   "metadata": {},
   "outputs": [],
   "source": [
    "import os, sys \n",
    "import numpy as np\n",
    "import pandas as pd\n",
    "#import tensorflow as tf\n",
    "#from tensorflow import keras\n",
    "#from keras import layers\n",
    "import matplotlib as mpl\n",
    "from matplotlib import pyplot as plt\n",
    "from sklearn.preprocessing import StandardScaler\n",
    "from tensorflow import keras"
   ]
  },
  {
   "cell_type": "markdown",
   "id": "acf986fc-a993-4986-a304-58447a1f3b5b",
   "metadata": {},
   "source": [
    "# Load and preview the data"
   ]
  },
  {
   "cell_type": "code",
   "execution_count": null,
   "id": "240199c7-79d3-4aa1-8650-f600a1135dfe",
   "metadata": {},
   "outputs": [],
   "source": [
    "df = pd.read_csv('data.csv')"
   ]
  },
  {
   "cell_type": "code",
   "execution_count": null,
   "id": "b2d383b4-734d-44ad-bf10-a7cc8b85e70f",
   "metadata": {},
   "outputs": [],
   "source": [
    "df.info() "
   ]
  },
  {
   "cell_type": "code",
   "execution_count": null,
   "id": "44654951-014a-4a62-a886-618dd7a6c51b",
   "metadata": {},
   "outputs": [],
   "source": [
    "df.head()"
   ]
  },
  {
   "cell_type": "code",
   "execution_count": null,
   "id": "f5390b0f-6c74-4633-a12f-10419c752e72",
   "metadata": {},
   "outputs": [],
   "source": [
    "df.describe()"
   ]
  },
  {
   "cell_type": "markdown",
   "id": "c9ea5c60-c728-41b4-87e4-b3562be58fbd",
   "metadata": {},
   "source": [
    "This data is for the 1909.09226 analysis. First 9 columns contains yields in signal bins, then there are yields in 5 control regions and 4 negative likelihood values: expected with mu=0, expected with mu=1, observed with mu=0, observed with mu=1. "
   ]
  },
  {
   "cell_type": "markdown",
   "id": "c3c041cb-8448-496c-9bb5-dae1fcc4e8be",
   "metadata": {},
   "source": [
    "Let's split data into training, validation and testing samples"
   ]
  },
  {
   "cell_type": "code",
   "execution_count": null,
   "id": "1260a27b-2048-44f9-86cf-5c6aad1bdf03",
   "metadata": {},
   "outputs": [],
   "source": [
    "train, val, test = np.split(df.sample(frac=1),[int(.8*len(df)), int(.9*len(df))])\n",
    "train.reset_index(drop=True, inplace=True)\n",
    "val.reset_index(drop=True, inplace=True)\n",
    "test.reset_index(drop=True, inplace=True)"
   ]
  },
  {
   "cell_type": "raw",
   "id": "29146575-00de-4b67-b858-32414522c226",
   "metadata": {},
   "source": [
    "Let's scale the data"
   ]
  },
  {
   "cell_type": "code",
   "execution_count": null,
   "id": "48143951-d258-4a15-a7b6-e97da10f9988",
   "metadata": {},
   "outputs": [],
   "source": [
    "columns = train.columns\n",
    "std_scaler = StandardScaler()\n",
    "train_scaled = std_scaler.fit_transform(train.iloc[:, :-4].to_numpy())\n",
    "mean_arr = std_scaler.mean_ \n",
    "std_arr = np.sqrt(std_scaler.var_)\n",
    "train_scaled = pd.DataFrame(train_scaled, columns=columns[:-4])\n",
    "val_scaled = std_scaler.transform(val.iloc[:, :-4].to_numpy())\n",
    "val_scaled = pd.DataFrame(val_scaled, columns=columns[:-4])\n",
    "test_scaled = std_scaler.transform(test.iloc[:, :-4].to_numpy())\n",
    "test_scaled = pd.DataFrame(test_scaled, columns=columns[:-4])\n",
    "\n",
    "\n",
    "for col in columns[-4:]:\n",
    "    train_scaled.loc[:, col] = train.loc[:, col]\n",
    "    test_scaled.loc[:, col] = test.loc[:, col]\n",
    "    val_scaled.loc[:, col] = val.loc[:, col]\n"
   ]
  },
  {
   "cell_type": "markdown",
   "id": "2d98a0ea-38fd-4e63-9f80-207cfdbf78e2",
   "metadata": {},
   "source": [
    "# Building model"
   ]
  },
  {
   "cell_type": "code",
   "execution_count": null,
   "id": "d0d7a0aa-3dd0-4901-a8ce-df39a65adc47",
   "metadata": {},
   "outputs": [],
   "source": [
    "def get_model(inputs, neurons = 256, blocks=4, l2=1e-3):\n",
    "    input_layer = keras.Input(shape=(inputs,))\n",
    "    xx = input_layer\n",
    "    for ii in range(blocks):\n",
    "        xx = keras.layers.Dense(neurons, activation=None, kernel_regularizer=keras.regularizers.L2(l2))(xx)\n",
    "        xx = keras.layers.BatchNormalization()(xx)\n",
    "        xx = keras.layers.Activation(tf.nn.relu)(xx)\n",
    "    xx = keras.layers.Dense(4, activation=\"ReLU\",)(xx)\n",
    "    model = keras.Model(input_layer, xx) \n",
    "    return model"
   ]
  },
  {
   "cell_type": "code",
   "execution_count": null,
   "id": "abf2ee32-42b8-476f-a72f-ef381df53e1a",
   "metadata": {},
   "outputs": [],
   "source": [
    "model = get_model(len(columns)-4, 32, 3, 1e-3)"
   ]
  },
  {
   "cell_type": "code",
   "execution_count": null,
   "id": "591eabfa-696f-4454-a286-048e868809a7",
   "metadata": {},
   "outputs": [],
   "source": [
    "model.compile(loss='mse', optimizer=tf.keras.optimizers.legacy.Adam(learning_rate=1e-4), metrics=['mae','mape'])"
   ]
  },
  {
   "cell_type": "code",
   "execution_count": null,
   "id": "8b81f755-ff11-4162-b890-76bc9fb97a43",
   "metadata": {},
   "outputs": [],
   "source": [
    "print(model.summary())"
   ]
  },
  {
   "cell_type": "markdown",
   "id": "2d142bf6-2ee9-4a53-8f4c-27ca7b379141",
   "metadata": {},
   "source": [
    "# Train model"
   ]
  },
  {
   "cell_type": "code",
   "execution_count": null,
   "id": "f0625e0f-6a30-4bdb-ac7e-e4ecc18e4718",
   "metadata": {
    "scrolled": true
   },
   "outputs": [],
   "source": [
    "history = model.fit(\n",
    "            train_scaled.iloc[:,:-4], train_scaled.iloc[:, -4:],\n",
    "            batch_size=250, epochs=50, \n",
    "            validation_data=[val_scaled.iloc[:,:-4], val_scaled.iloc[:, -4:]]\n",
    "                 )"
   ]
  },
  {
   "cell_type": "code",
   "execution_count": null,
   "id": "6db03b5d-9e63-4efe-8432-0c769cde8931",
   "metadata": {},
   "outputs": [],
   "source": []
  },
  {
   "cell_type": "code",
   "execution_count": null,
   "id": "553e3459-58af-483d-bdbb-df2bef52a041",
   "metadata": {},
   "outputs": [],
   "source": []
  },
  {
   "cell_type": "code",
   "execution_count": null,
   "id": "78a497c5-40cb-4c82-9c51-c83957b6a389",
   "metadata": {},
   "outputs": [],
   "source": [
    "plt.plot(history.history['loss'], label='train')\n",
    "plt.plot(history.history['val_loss'], label='val', alpha=0.9)\n",
    "plt.yscale('log')\n",
    "plt.xlabel('epoch')\n",
    "plt.ylabel('MSE loss')\n",
    "plt.legend()\n",
    "plt.show()"
   ]
  },
  {
   "cell_type": "code",
   "execution_count": null,
   "id": "a87e224b-aad2-4de5-a7e0-0cc64c316246",
   "metadata": {},
   "outputs": [],
   "source": [
    "plt.plot(history.history['mae'], label='train')\n",
    "plt.plot(history.history['val_mae'], label='val', alpha=0.9)\n",
    "plt.yscale('log')\n",
    "plt.xlabel('epoch')\n",
    "plt.ylabel('MAE')\n",
    "plt.legend()\n",
    "plt.show()"
   ]
  },
  {
   "cell_type": "code",
   "execution_count": null,
   "id": "bdbc7435-5734-4bfc-8988-aab6ac709376",
   "metadata": {},
   "outputs": [],
   "source": [
    "plt.plot(history.history['mape'], label='train')\n",
    "plt.plot(history.history['val_mape'], label='val', alpha=0.9)\n",
    "plt.yscale('log')\n",
    "plt.xlabel('epoch')\n",
    "plt.ylabel('MAPE')\n",
    "plt.legend()\n",
    "plt.show()"
   ]
  },
  {
   "cell_type": "code",
   "execution_count": null,
   "id": "609ef723-5e35-41ca-b06b-cf43354eec87",
   "metadata": {},
   "outputs": [],
   "source": [
    "model.evaluate(test_scaled.iloc[:, :-4], test_scaled.iloc[:, -4:], batch_size=128)"
   ]
  },
  {
   "cell_type": "code",
   "execution_count": null,
   "id": "da7c77b8-9303-4356-9aaa-79769560a753",
   "metadata": {},
   "outputs": [],
   "source": [
    "y_true = test_scaled.iloc[:, -4:]\n",
    "y_pred = model.predict(test_scaled.iloc[:, :-4])\n",
    "mape = tf.keras.metrics.mean_absolute_percentage_error(y_true, y_pred)"
   ]
  },
  {
   "cell_type": "code",
   "execution_count": null,
   "id": "5508ab20-7a54-47d3-af98-924bdc528e69",
   "metadata": {},
   "outputs": [],
   "source": [
    "print(y_true.shape, y_pred.shape, mape.shape)"
   ]
  },
  {
   "cell_type": "code",
   "execution_count": null,
   "id": "7dfa7b76-3760-4fb9-b305-fdbce25b63a6",
   "metadata": {},
   "outputs": [],
   "source": [
    "y_true"
   ]
  },
  {
   "cell_type": "code",
   "execution_count": null,
   "id": "5f2ea144-d6e6-49a3-8f22-0457468659f0",
   "metadata": {},
   "outputs": [],
   "source": [
    "fig, axs = plt.subplots(1, 2, figsize=(10,4))\n",
    "for ll in range(2):\n",
    "    axs[ll].hist2d(y_true.iloc[:, ll*2+1], mape,  50, norm=mpl.colors.LogNorm(vmin=1, vmax=1e2))\n",
    "    axs[ll].set_xlabel(columns[14+ll*2+1])\n",
    "    axs[ll].set_ylabel('MAPE')\n",
    "plt.tight_layout()\n",
    "plt.show()"
   ]
  },
  {
   "cell_type": "markdown",
   "id": "40a71b44-42bb-48c7-92d6-9cb533e3c300",
   "metadata": {},
   "source": [
    "# Exercises"
   ]
  },
  {
   "cell_type": "markdown",
   "id": "0cbc6366-48d0-42bd-a462-b54801a38385",
   "metadata": {},
   "source": [
    "* Experiment with neural network hyperparameters to improve MAPE results\n",
    "* Make 2D histograms of -2*log[ L_mu1/Lm_u0] for both expected and observed"
   ]
  },
  {
   "cell_type": "code",
   "execution_count": null,
   "id": "cc7abee7-c81c-478b-9f9e-e4fa2ac9ec34",
   "metadata": {},
   "outputs": [],
   "source": []
  }
 ],
 "metadata": {
  "kernelspec": {
   "display_name": "Python 3 (ipykernel)",
   "language": "python",
   "name": "python3"
  },
  "language_info": {
   "codemirror_mode": {
    "name": "ipython",
    "version": 3
   },
   "file_extension": ".py",
   "mimetype": "text/x-python",
   "name": "python",
   "nbconvert_exporter": "python",
   "pygments_lexer": "ipython3",
   "version": "3.11.5"
  }
 },
 "nbformat": 4,
 "nbformat_minor": 5
}
